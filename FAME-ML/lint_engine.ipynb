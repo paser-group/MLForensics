{
 "cells": [
  {
   "cell_type": "code",
   "execution_count": 1,
   "metadata": {},
   "outputs": [
    {
     "data": {
      "text/plain": [
       "'\\nFarzana Ahamed Bhuiyan (Lead) \\nAkond Rahman \\nOct 20, 2020 \\nExecutes the pattern matching and data flow analysis \\n'"
      ]
     },
     "execution_count": 1,
     "metadata": {},
     "output_type": "execute_result"
    }
   ],
   "source": [
    "'''\n",
    "Farzana Ahamed Bhuiyan (Lead) \n",
    "Akond Rahman \n",
    "Oct 20, 2020 \n",
    "Executes the pattern matching and data flow analysis \n",
    "'''"
   ]
  },
  {
   "cell_type": "code",
   "execution_count": 2,
   "metadata": {},
   "outputs": [
    {
     "name": "stdout",
     "output_type": "stream",
     "text": [
      "importing Jupyter notebook from py_parser.ipynb\n",
      "importing Jupyter notebook from constants.ipynb\n"
     ]
    }
   ],
   "source": [
    "import import_ipynb\n",
    "import py_parser\n",
    "import constants "
   ]
  },
  {
   "cell_type": "code",
   "execution_count": 3,
   "metadata": {},
   "outputs": [],
   "source": [
    "def getDataLoadCount( py_file ):\n",
    "    data_load_count = 0 \n",
    "    py_tree = py_parser.getPythonParseObject(py_file)\n",
    "    func_def_list  = py_parser.getPythonAtrributeFuncs( py_tree ) \n",
    "    print(func_def_list)\n",
    "    for def_ in func_def_list:\n",
    "        class_name, func_name, func_line, arg_call_list = def_ \n",
    "        \n",
    "        if(( class_name == constants.TORCH_KW ) and (func_name == constants.LOAD_KW ) and (len(arg_call_list) > 0) ):\n",
    "            data_load_count += 1 \n",
    "            print(def_)\n",
    "            \n",
    "        elif(( class_name == constants.DATA_KW ) and (func_name == constants.LOAD_KW ) and (len(arg_call_list) > 0) ):\n",
    "            data_load_count += 1 \n",
    "            print(def_)\n",
    "            \n",
    "        elif(( class_name == constants.PICKLE_KW ) and (func_name == constants.LOAD_KW ) and (len(arg_call_list) > 0) ):\n",
    "            data_load_count += 1 \n",
    "            print(def_)\n",
    "            \n",
    "        elif(( class_name == constants.JSON_KW ) and (func_name == constants.LOAD_KW ) and (len(arg_call_list) > 0) ):\n",
    "            data_load_count += 1 \n",
    "            print(def_)\n",
    "            \n",
    "        elif(( class_name == constants.NP_KW ) and (func_name == constants.LOAD_KW ) and (len(arg_call_list) > 0) ):\n",
    "            data_load_count += 1 \n",
    "            print(def_)\n",
    "            \n",
    "        elif(( class_name == constants.WGET_KW ) and (func_name == constants.DOWNLOAD_KW ) and (len(arg_call_list) > 0) ):\n",
    "            data_load_count += 1 \n",
    "            print(def_)\n",
    "            \n",
    "        elif(( class_name == constants.LATEST_BLOB_KW ) and (func_name == constants.DOWNLOAD_TO_FILENAME_KW ) and (len(arg_call_list) > 0) ):\n",
    "            data_load_count += 1 \n",
    "            print(def_)\n",
    "            \n",
    "        elif(( class_name == constants.BLOB_KW ) and (func_name == constants.UPLOAD_FROM_FILENAME_KW ) and (len(arg_call_list) > 0) ):\n",
    "            data_load_count += 1 \n",
    "            print(def_)\n",
    "            \n",
    "        elif(( class_name == constants.VISDOM_LOGGER_KW ) and (func_name == constants.LOAD_PREVIOUS_VALUES_KW ) and (len(arg_call_list) > 0) ):\n",
    "            data_load_count += 1 \n",
    "            print(def_)\n",
    "            \n",
    "        elif(( class_name == constants.COCO_GT_KW ) and (func_name == constants.LOADRES_KW ) and (len(arg_call_list) > 0) ):\n",
    "            data_load_count += 1 \n",
    "            print(def_)\n",
    "            \n",
    "        elif(( class_name == constants.YAML_KW ) and (func_name == constants.LOAD_KW ) and (len(arg_call_list) > 0) ):\n",
    "            data_load_count += 1 \n",
    "            print(def_) \n",
    "            \n",
    "        elif(( class_name == constants.HUB_KW ) and (func_name == constants.LOAD_KW ) and (len(arg_call_list) > 0) ):\n",
    "            data_load_count += 1 \n",
    "            print(def_)\n",
    "            \n",
    "        elif(( class_name == constants.DATA_LOADER_FACTORY_KW ) and (func_name == constants.GET_DATA_LOADER_KW ) and (len(arg_call_list) > 0) ):\n",
    "            data_load_count += 1 \n",
    "            print(def_)\n",
    "            \n",
    "        elif(( class_name == constants.PD_KW ) and (func_name == constants.READ_CSV_KW ) and (len(arg_call_list) > 0) ):\n",
    "            data_load_count += 1 \n",
    "            print(def_)\n",
    "            \n",
    "        elif(( class_name == constants.IBROSA_KW ) and (func_name == constants.LOAD_KW ) and (len(arg_call_list) > 0) ):\n",
    "            data_load_count += 1 \n",
    "            print(def_)\n",
    "            \n",
    "        elif(( class_name == constants.DATA_UTILS_KW ) and (func_name == constants.LOAD_CELEBA_KW ) and (len(arg_call_list) > 0) ):\n",
    "            data_load_count += 1 \n",
    "            print(def_)\n",
    "            \n",
    "        elif(( class_name == constants.DSET_KW ) and (func_name == constants.MNIST_KW ) and (len(arg_call_list) > 0) ):\n",
    "            data_load_count += 1 \n",
    "            print(def_)\n",
    "            \n",
    "        elif(( class_name == constants.TARFILE_KW ) and (func_name == constants.OPEN_KW ) and (len(arg_call_list) > 0) ):\n",
    "            data_load_count += 1 \n",
    "            print(def_)\n",
    "            \n",
    "        elif(( class_name == constants.AUDIO_KW ) and (func_name == constants.LOAD_WAV_KW ) and (len(arg_call_list) > 0) ):\n",
    "            data_load_count += 1 \n",
    "            print(def_)\n",
    "            \n",
    "        elif(( class_name == constants.IMAGE_KW) and (func_name == constants.OPEN_KW ) and (len(arg_call_list) > 0) ):\n",
    "            data_load_count += 1 \n",
    "            print(def_)\n",
    "            \n",
    "    return data_load_count "
   ]
  },
  {
   "cell_type": "code",
   "execution_count": null,
   "metadata": {},
   "outputs": [],
   "source": []
  }
 ],
 "metadata": {
  "kernelspec": {
   "display_name": "Python 3",
   "language": "python",
   "name": "python3"
  },
  "language_info": {
   "codemirror_mode": {
    "name": "ipython",
    "version": 3
   },
   "file_extension": ".py",
   "mimetype": "text/x-python",
   "name": "python",
   "nbconvert_exporter": "python",
   "pygments_lexer": "ipython3",
   "version": "3.6.10"
  }
 },
 "nbformat": 4,
 "nbformat_minor": 4
}
