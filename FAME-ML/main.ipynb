{
 "cells": [
  {
   "cell_type": "code",
   "execution_count": 1,
   "metadata": {},
   "outputs": [
    {
     "data": {
      "text/plain": [
       "'\\nFarzana Ahamed Bhuiyan (Lead) \\nAkond Rahman \\nOct 20, 2020 \\nMain executor \\n'"
      ]
     },
     "execution_count": 1,
     "metadata": {},
     "output_type": "execute_result"
    }
   ],
   "source": [
    "'''\n",
    "Farzana Ahamed Bhuiyan (Lead) \n",
    "Akond Rahman \n",
    "Oct 20, 2020 \n",
    "Main executor \n",
    "'''"
   ]
  },
  {
   "cell_type": "code",
   "execution_count": 2,
   "metadata": {},
   "outputs": [
    {
     "name": "stdout",
     "output_type": "stream",
     "text": [
      "importing Jupyter notebook from lint_engine.ipynb\n",
      "importing Jupyter notebook from py_parser.ipynb\n",
      "importing Jupyter notebook from constants.ipynb\n"
     ]
    }
   ],
   "source": [
    "import import_ipynb\n",
    "import lint_engine"
   ]
  },
  {
   "cell_type": "code",
   "execution_count": 3,
   "metadata": {},
   "outputs": [
    {
     "name": "stdout",
     "output_type": "stream",
     "text": [
      "[('torch', 'load', 1, [('load_model_dir', 'INDEX1')]), ('data', 'load', 2, [('dset_dir', 'INDEX1')]), ('pickle', 'load', 3, [('fp', 'INDEX1')]), ('json', 'load', 4, [('config_file', 'INDEX1')]), ('np', 'load', 5, [('path', 'INDEX1')]), ('torch', 'load', 6, [('checkpoint_path', 'INDEX1')]), ('wget', 'download', 7, [('lm_path', 'INDEX1')]), ('latest_blob', 'download_to_filename', 8, [('local_save_file', 'INDEX1')]), ('blob', 'upload_from_filename', 9, [('local_save_file', 'INDEX1')]), ('visdom_logger', 'load_previous_values', 10, [('epoch', 'INDEX1'), ('results', 'INDEX2')]), ('coco_gt', 'loadRes', 11, []), ('yaml', 'load', 12, [('f', 'INDEX1')]), ('hub', 'load', 13, [('hub_module_url', 'INDEX1')]), ('data_loader_factory', 'get_data_loader', 14, [('dataloader_params', 'INDEX1')]), ('pd', 'read_csv', 19, [('attributes_file', 'INDEX1')]), ('ibrosa', 'load', 21, [('filename', 'INDEX1')]), ('data_utils', 'load_celebA', 22, [('img_dim', 'INDEX1'), ('image_data_format', 'INDEX2')]), ('dset', 'MNIST', 23, []), ('tarfile', 'open', 24, [('target_file', 'INDEX1')]), ('audio', 'load_wav', 25, [('wav_path', 'INDEX1')]), ('Image', 'open', 26, [('demo_image', 'INDEX1')])]\n",
      "('torch', 'load', 1, [('load_model_dir', 'INDEX1')])\n",
      "('data', 'load', 2, [('dset_dir', 'INDEX1')])\n",
      "('pickle', 'load', 3, [('fp', 'INDEX1')])\n",
      "('json', 'load', 4, [('config_file', 'INDEX1')])\n",
      "('np', 'load', 5, [('path', 'INDEX1')])\n",
      "('torch', 'load', 6, [('checkpoint_path', 'INDEX1')])\n",
      "('wget', 'download', 7, [('lm_path', 'INDEX1')])\n",
      "('latest_blob', 'download_to_filename', 8, [('local_save_file', 'INDEX1')])\n",
      "('blob', 'upload_from_filename', 9, [('local_save_file', 'INDEX1')])\n",
      "('visdom_logger', 'load_previous_values', 10, [('epoch', 'INDEX1'), ('results', 'INDEX2')])\n",
      "('yaml', 'load', 12, [('f', 'INDEX1')])\n",
      "('hub', 'load', 13, [('hub_module_url', 'INDEX1')])\n",
      "('data_loader_factory', 'get_data_loader', 14, [('dataloader_params', 'INDEX1')])\n",
      "('pd', 'read_csv', 19, [('attributes_file', 'INDEX1')])\n",
      "('ibrosa', 'load', 21, [('filename', 'INDEX1')])\n",
      "('data_utils', 'load_celebA', 22, [('img_dim', 'INDEX1'), ('image_data_format', 'INDEX2')])\n",
      "('tarfile', 'open', 24, [('target_file', 'INDEX1')])\n",
      "('audio', 'load_wav', 25, [('wav_path', 'INDEX1')])\n",
      "('Image', 'open', 26, [('demo_image', 'INDEX1')])\n",
      "19\n"
     ]
    }
   ],
   "source": [
    "if __name__=='__main__':\n",
    "    TEST_ML_SCRIPT = '../Data/sample.py' \n",
    "    data_load_count = lint_engine.getDataLoadCount( TEST_ML_SCRIPT ) \n",
    "    print(data_load_count) "
   ]
  },
  {
   "cell_type": "code",
   "execution_count": null,
   "metadata": {},
   "outputs": [],
   "source": []
  },
  {
   "cell_type": "code",
   "execution_count": null,
   "metadata": {},
   "outputs": [],
   "source": []
  }
 ],
 "metadata": {
  "kernelspec": {
   "display_name": "Python 3",
   "language": "python",
   "name": "python3"
  },
  "language_info": {
   "codemirror_mode": {
    "name": "ipython",
    "version": 3
   },
   "file_extension": ".py",
   "mimetype": "text/x-python",
   "name": "python",
   "nbconvert_exporter": "python",
   "pygments_lexer": "ipython3",
   "version": "3.6.10"
  }
 },
 "nbformat": 4,
 "nbformat_minor": 4
}
