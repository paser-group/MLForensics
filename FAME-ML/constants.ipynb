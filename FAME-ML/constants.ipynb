{
 "cells": [
  {
   "cell_type": "code",
   "execution_count": 1,
   "metadata": {},
   "outputs": [
    {
     "data": {
      "text/plain": [
       "'\\nFarzana Ahamed Bhuiyan (Lead) \\nAkond Rahman \\nOct 20, 2020 \\nHolder for constants needed to implement FAME-ML \\n'"
      ]
     },
     "execution_count": 1,
     "metadata": {},
     "output_type": "execute_result"
    }
   ],
   "source": [
    "'''\n",
    "Farzana Ahamed Bhuiyan (Lead) \n",
    "Akond Rahman \n",
    "Oct 20, 2020 \n",
    "Holder for constants needed to implement FAME-ML \n",
    "'''"
   ]
  },
  {
   "cell_type": "code",
   "execution_count": 2,
   "metadata": {},
   "outputs": [],
   "source": [
    "FUNC_KW = 'func'\n",
    "ARGS_KW = 'args'\n",
    "LINE_NO_KW = 'lineno'\n",
    "ATTRIB_KW = 'attr'\n",
    "VALUE_KW = 'value'\n",
    "\n",
    "INDEX_KW = 'INDEX'\n",
    "\n",
    "DATA_KW = 'data'\n",
    "LOAD_KW = 'load'\n",
    "TORCH_KW = 'torch'\n",
    "PICKLE_KW = 'pickle'\n",
    "JSON_KW = 'json'\n",
    "NP_KW = 'np'\n",
    "WGET_KW = 'wget'\n",
    "DOWNLOAD_KW = 'download'\n",
    "LATEST_BLOB_KW = 'latest_blob'\n",
    "DOWNLOAD_TO_FILENAME_KW = 'download_to_filename'\n",
    "BLOB_KW = 'blob'\n",
    "UPLOAD_FROM_FILENAME_KW = 'upload_from_filename'\n",
    "VISDOM_LOGGER_KW = 'visdom_logger'\n",
    "LOAD_PREVIOUS_VALUES_KW = 'load_previous_values'\n",
    "COCO_GT_KW = 'coco_gt'\n",
    "LOADRES_KW = 'loadRes'\n",
    "YAML_KW = 'yaml'\n",
    "HUB_KW = 'hub'\n",
    "DATA_LOADER_FACTORY_KW = 'data_loader_factory'\n",
    "GET_DATA_LOADER_KW = 'get_data_loader'\n",
    "PD_KW = 'pd'\n",
    "READ_CSV_KW = 'read_csv'\n",
    "IBROSA_KW = 'ibrosa'\n",
    "DATA_UTILS_KW = 'data_utils'\n",
    "LOAD_CELEBA_KW = 'load_celebA'\n",
    "DSET_KW = 'dset'\n",
    "MNIST_KW = 'MNIST'\n",
    "TARFILE_KW = 'tarfile'\n",
    "OPEN_KW = 'open'\n",
    "AUDIO_KW = 'audio'\n",
    "LOAD_WAV_KW = 'load_wav'\n",
    "IMAGE_KW = 'Image'\n",
    "\n",
    "# coco_gt.loadRes(predictions=coco_predictions)\n",
    "# dset.MNIST(root=\".\", download=True)\n",
    "\n",
    "# tf.io.read_file(filename)\n",
    "# tf.data.Dataset.from_tensor_slices(filenames)\n",
    "# self.sp_model.Load(sp_model_file)\n",
    "# agent.replay_buffer.load(self.rbuf_filename)\n",
    "\n",
    "# TaggingDataLoader(data_config).load()\n",
    "# tl.files.load_file_list()"
   ]
  },
  {
   "cell_type": "code",
   "execution_count": null,
   "metadata": {},
   "outputs": [],
   "source": []
  },
  {
   "cell_type": "code",
   "execution_count": null,
   "metadata": {},
   "outputs": [],
   "source": []
  }
 ],
 "metadata": {
  "kernelspec": {
   "display_name": "Python 3",
   "language": "python",
   "name": "python3"
  },
  "language_info": {
   "codemirror_mode": {
    "name": "ipython",
    "version": 3
   },
   "file_extension": ".py",
   "mimetype": "text/x-python",
   "name": "python",
   "nbconvert_exporter": "python",
   "pygments_lexer": "ipython3",
   "version": "3.6.10"
  }
 },
 "nbformat": 4,
 "nbformat_minor": 4
}
