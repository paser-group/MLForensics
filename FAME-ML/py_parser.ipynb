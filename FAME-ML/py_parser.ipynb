{
 "cells": [
  {
   "cell_type": "code",
   "execution_count": 1,
   "metadata": {},
   "outputs": [
    {
     "data": {
      "text/plain": [
       "'\\nFarzana Ahamed Bhuiyan (Lead) \\nAkond Rahman \\nOct 20, 2020 \\nParser needed to implement FAME-ML \\n'"
      ]
     },
     "execution_count": 1,
     "metadata": {},
     "output_type": "execute_result"
    }
   ],
   "source": [
    "'''\n",
    "Farzana Ahamed Bhuiyan (Lead) \n",
    "Akond Rahman \n",
    "Oct 20, 2020 \n",
    "Parser needed to implement FAME-ML \n",
    "'''"
   ]
  },
  {
   "cell_type": "code",
   "execution_count": 2,
   "metadata": {},
   "outputs": [
    {
     "name": "stdout",
     "output_type": "stream",
     "text": [
      "importing Jupyter notebook from constants.ipynb\n"
     ]
    }
   ],
   "source": [
    "import import_ipynb\n",
    "import ast \n",
    "import os \n",
    "import constants "
   ]
  },
  {
   "cell_type": "code",
   "execution_count": 3,
   "metadata": {},
   "outputs": [],
   "source": [
    "def getPythonParseObject( pyFile ): \n",
    "    full_tree = ast.parse( open( pyFile  ).read() )    \n",
    "    return full_tree "
   ]
  },
  {
   "cell_type": "code",
   "execution_count": 4,
   "metadata": {},
   "outputs": [],
   "source": [
    "def getPythonAtrributeFuncs(pyTree):\n",
    "    attrib_call_list  = [] \n",
    "    for stmt_ in pyTree.body:\n",
    "        for node_ in ast.walk(stmt_):\n",
    "            if isinstance(node_, ast.Call):\n",
    "                funcDict = node_.__dict__ \n",
    "                func_, funcArgs, funcLineNo =  funcDict[ constants.FUNC_KW ], funcDict[constants.ARGS_KW], funcDict[constants.LINE_NO_KW] \n",
    "                if( isinstance(func_, ast.Attribute ) ):\n",
    "                    func_as_attrib_dict = func_.__dict__ \n",
    "                    # print(func_as_attrib_dict ) \n",
    "                    func_name    = func_as_attrib_dict[constants.ATTRIB_KW] \n",
    "                    func_parent  = func_as_attrib_dict[constants.VALUE_KW]\n",
    "                    if( isinstance(func_parent, ast.Name )   ):     \n",
    "                        call_arg_list = []                \n",
    "                        for x_ in range(len(funcArgs)):\n",
    "                            funcArg = funcArgs[x_] \n",
    "                            if( isinstance(funcArg, ast.Name ) )  :\n",
    "                                call_arg_list.append( (  funcArg.id, constants.INDEX_KW + str(x_ + 1) )  ) \n",
    "                            elif( isinstance(funcArg, ast.Attribute) ): \n",
    "                                arg_dic  = funcArg.__dict__\n",
    "                                arg_name = arg_dic[constants.ATTRIB_KW] \n",
    "                                call_arg_list.append( (  arg_name, constants.INDEX_KW + str(x_ + 1) )  ) \n",
    "                        attrib_call_list.append( ( func_parent.id, func_name , funcLineNo, call_arg_list  ) )                \n",
    "    return attrib_call_list "
   ]
  },
  {
   "cell_type": "code",
   "execution_count": null,
   "metadata": {},
   "outputs": [],
   "source": []
  },
  {
   "cell_type": "code",
   "execution_count": null,
   "metadata": {},
   "outputs": [],
   "source": []
  }
 ],
 "metadata": {
  "kernelspec": {
   "display_name": "Python 3",
   "language": "python",
   "name": "python3"
  },
  "language_info": {
   "codemirror_mode": {
    "name": "ipython",
    "version": 3
   },
   "file_extension": ".py",
   "mimetype": "text/x-python",
   "name": "python",
   "nbconvert_exporter": "python",
   "pygments_lexer": "ipython3",
   "version": "3.6.10"
  }
 },
 "nbformat": 4,
 "nbformat_minor": 4
}
